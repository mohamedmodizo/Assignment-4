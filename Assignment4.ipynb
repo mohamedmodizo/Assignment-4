{
 "cells": [
  {
   "cell_type": "code",
   "execution_count": 1,
   "metadata": {},
   "outputs": [
    {
     "name": "stdout",
     "output_type": "stream",
     "text": [
      "True\n"
     ]
    }
   ],
   "source": [
    "#ask 1: Palindrome Checker using a Stack\n",
    "def is_palindrome(s):\n",
    "    # Using a list to simulate a stack\n",
    "    stack = []\n",
    "    \n",
    "    # Remove non-alphanumeric characters and convert to lower case\n",
    "    cleaned_s = ''.join(char.lower() for char in s if char.isalnum())\n",
    "    \n",
    "    # Push all characters to the stack\n",
    "    for char in cleaned_s:\n",
    "        stack.append(char)\n",
    "    \n",
    "    # Check if the string is a palindrome\n",
    "    for char in cleaned_s:\n",
    "\n",
    "        if char != stack.pop():\n",
    "            return False\n",
    "    return True\n",
    "\n",
    "\n",
    "input_string = \"A man, a plan, a canal: Panama\"\n",
    "print(is_palindrome(input_string)) \n"
   ]
  },
  {
   "cell_type": "markdown",
   "metadata": {},
   "source": [
    "# Task 2: explaining list comprehensions with examples.\n",
    "\n",
    "List comprehension is a concise way to create lists in Python. It consists of brackets containing an expression followed by a for clause, then zero or more for or if clauses. The expressions can be anything, meaning you can put in all kinds of objects in lists.\n",
    "\n",
    "# Creating a list of squares:\n",
    "```python\n",
    "squares = [x**2 for x in range(10)]\n",
    "# Output: [0, 1, 4, 9, 16, 25, 36, 49, 64, 81]\n",
    "```\n",
    "# Filtering even numbers from a list:\n",
    "```python\n",
    "evens = [x for x in range(20) if x % 2 == 0]\n",
    "# Output: [0, 2, 4, 6, 8, 10, 12, 14, 16, 18]\n",
    "```\n",
    "\n",
    "# Combining elements of two lists if they are not equal:\n",
    "```python\n",
    "combined = [(x, y) for x in [1, 2, 3] for y in [3, 1, 4] if x != y]\n",
    "# Output: [(1, 3), (1, 4), (2, 3), (2, 1), (2, 4), (3, 1), (3, 4)]\n",
    "```\n",
    "\n",
    "\n",
    "\n",
    "\n"
   ]
  },
  {
   "cell_type": "markdown",
   "metadata": {},
   "source": [
    "# Task 3: Compound Datatypes in Python\n",
    "Python supports various compound data types, which are used to group together other values. The most versatile compound data types are lists, tuples, and dictionaries.\n",
    "\n",
    "# List: A list is a mutable, ordered sequence of items.\n",
    "```python\n",
    "fruits = ['apple', 'banana', 'cherry']\n",
    "```\n",
    "\n",
    "# Tuple: A tuple is an immutable, ordered sequence of items.\n",
    "```python\n",
    "point = (10, 20)\n",
    "```\n",
    "\n",
    "# Dictionary: A dictionary stores key-value pairs, where each key is unique.\n",
    "```python\n",
    "capitals = {'Kenya': 'Nairobi', 'Uganda': 'Kampala'}\n",
    "```\n",
    "\n",
    "\n"
   ]
  },
  {
   "cell_type": "code",
   "execution_count": 2,
   "metadata": {},
   "outputs": [
    {
     "name": "stdout",
     "output_type": "stream",
     "text": [
      "['he', 'el', 'll', 'lo', 'ow', 'wo', 'or', 'rl', 'ld']\n"
     ]
    }
   ],
   "source": [
    "# Task 4: writing a function that converts a string into a list of bigrams.\n",
    "# A bigram is a sequence of two adjacent elements from a string or sentence.\n",
    "def string_to_bigrams(s):\n",
    "    # Remove spaces and convert to lower case for consistent bigrams\n",
    "    s = s.replace(\" \", \"\").lower()\n",
    "    # Generate bigrams using a list comprehension\n",
    "    return [s[i:i+2] for i in range(len(s) - 1)]\n",
    "\n",
    "\n",
    "input_string = \"hello world\"\n",
    "print(string_to_bigrams(input_string))  \n"
   ]
  },
  {
   "cell_type": "code",
   "execution_count": 3,
   "metadata": {},
   "outputs": [
    {
     "name": "stdout",
     "output_type": "stream",
     "text": [
      "b\n"
     ]
    }
   ],
   "source": [
    "# 5: Closest Key Finder in a Dictionary\n",
    "def closest_key(dict, target_value):\n",
    "    closest = None\n",
    "    min_index = float('inf')\n",
    "    \n",
    "    for key, values in dict.items():\n",
    "        if target_value in values:\n",
    "            index = values.index(target_value)\n",
    "            if index < min_index:\n",
    "                min_index = index\n",
    "                closest = key\n",
    "    \n",
    "    return closest\n",
    "\n",
    "\n",
    "dictionary = {'a': ['b', 'c', 'd'], 'b': ['a', 'd'], 'c': ['e', 'f', 'a']}\n",
    "target_value = 'a'\n",
    "print(closest_key(dictionary, target_value))  \n"
   ]
  }
 ],
 "metadata": {
  "kernelspec": {
   "display_name": "Python 3",
   "language": "python",
   "name": "python3"
  },
  "language_info": {
   "codemirror_mode": {
    "name": "ipython",
    "version": 3
   },
   "file_extension": ".py",
   "mimetype": "text/x-python",
   "name": "python",
   "nbconvert_exporter": "python",
   "pygments_lexer": "ipython3",
   "version": "3.11.9"
  }
 },
 "nbformat": 4,
 "nbformat_minor": 2
}
